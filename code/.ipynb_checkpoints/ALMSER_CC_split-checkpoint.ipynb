{
 "cells": [
  {
   "cell_type": "markdown",
   "metadata": {},
   "source": [
    "Split into train and test pairs based on connected components.\n",
    "Ensures that there are no records referring to the same real world entity in train and test sets.\n"
   ]
  },
  {
   "cell_type": "code",
   "execution_count": 4,
   "metadata": {},
   "outputs": [
    {
     "name": "stdout",
     "output_type": "stream",
     "text": [
      "Matching Pairs:  11236\n",
      "Non-Matching Pairs:  246009\n",
      "Counter({2: 1770, 3: 856, 4: 439, 5: 430})\n",
      "3495\n",
      "--Return--\n",
      "> <ipython-input-4-9943604e9210>(27)<module>()->None\n",
      "-> import pdb;pdb.set_trace();\n",
      "(Pdb) q\n"
     ]
    },
    {
     "ename": "BdbQuit",
     "evalue": "",
     "output_type": "error",
     "traceback": [
      "\u001b[0;31m-------------------------------------------------------------------\u001b[0m",
      "\u001b[0;31mBdbQuit\u001b[0m                           Traceback (most recent call last)",
      "\u001b[0;32m<ipython-input-4-9943604e9210>\u001b[0m in \u001b[0;36m<module>\u001b[0;34m\u001b[0m\n\u001b[1;32m     25\u001b[0m \u001b[0;34m\u001b[0m\u001b[0m\n\u001b[1;32m     26\u001b[0m \u001b[0;34m\u001b[0m\u001b[0m\n\u001b[0;32m---> 27\u001b[0;31m \u001b[0;32mimport\u001b[0m \u001b[0mpdb\u001b[0m\u001b[0;34m;\u001b[0m\u001b[0mpdb\u001b[0m\u001b[0;34m.\u001b[0m\u001b[0mset_trace\u001b[0m\u001b[0;34m(\u001b[0m\u001b[0;34m)\u001b[0m\u001b[0;34m;\u001b[0m\u001b[0;34m\u001b[0m\u001b[0;34m\u001b[0m\u001b[0m\n\u001b[0m\u001b[1;32m     28\u001b[0m \u001b[0mrandom\u001b[0m\u001b[0;34m.\u001b[0m\u001b[0mRandom\u001b[0m\u001b[0;34m(\u001b[0m\u001b[0;36m42\u001b[0m\u001b[0;34m)\u001b[0m\u001b[0;34m.\u001b[0m\u001b[0mshuffle\u001b[0m\u001b[0;34m(\u001b[0m\u001b[0mcon_components\u001b[0m\u001b[0;34m)\u001b[0m\u001b[0;34m\u001b[0m\u001b[0;34m\u001b[0m\u001b[0m\n\u001b[1;32m     29\u001b[0m \u001b[0mtrain_components\u001b[0m \u001b[0;34m=\u001b[0m \u001b[0mcon_components\u001b[0m\u001b[0;34m[\u001b[0m\u001b[0;34m:\u001b[0m\u001b[0mint\u001b[0m\u001b[0;34m(\u001b[0m\u001b[0;36m0.7\u001b[0m\u001b[0;34m*\u001b[0m\u001b[0mlen\u001b[0m\u001b[0;34m(\u001b[0m\u001b[0mcon_components\u001b[0m\u001b[0;34m)\u001b[0m\u001b[0;34m)\u001b[0m\u001b[0;34m]\u001b[0m\u001b[0;34m\u001b[0m\u001b[0;34m\u001b[0m\u001b[0m\n",
      "\u001b[0;32m/work/aprimpel/anaconda3/lib/python3.7/bdb.py\u001b[0m in \u001b[0;36mtrace_dispatch\u001b[0;34m(self, frame, event, arg)\u001b[0m\n\u001b[1;32m     90\u001b[0m             \u001b[0;32mreturn\u001b[0m \u001b[0mself\u001b[0m\u001b[0;34m.\u001b[0m\u001b[0mdispatch_call\u001b[0m\u001b[0;34m(\u001b[0m\u001b[0mframe\u001b[0m\u001b[0;34m,\u001b[0m \u001b[0marg\u001b[0m\u001b[0;34m)\u001b[0m\u001b[0;34m\u001b[0m\u001b[0;34m\u001b[0m\u001b[0m\n\u001b[1;32m     91\u001b[0m         \u001b[0;32mif\u001b[0m \u001b[0mevent\u001b[0m \u001b[0;34m==\u001b[0m \u001b[0;34m'return'\u001b[0m\u001b[0;34m:\u001b[0m\u001b[0;34m\u001b[0m\u001b[0;34m\u001b[0m\u001b[0m\n\u001b[0;32m---> 92\u001b[0;31m             \u001b[0;32mreturn\u001b[0m \u001b[0mself\u001b[0m\u001b[0;34m.\u001b[0m\u001b[0mdispatch_return\u001b[0m\u001b[0;34m(\u001b[0m\u001b[0mframe\u001b[0m\u001b[0;34m,\u001b[0m \u001b[0marg\u001b[0m\u001b[0;34m)\u001b[0m\u001b[0;34m\u001b[0m\u001b[0;34m\u001b[0m\u001b[0m\n\u001b[0m\u001b[1;32m     93\u001b[0m         \u001b[0;32mif\u001b[0m \u001b[0mevent\u001b[0m \u001b[0;34m==\u001b[0m \u001b[0;34m'exception'\u001b[0m\u001b[0;34m:\u001b[0m\u001b[0;34m\u001b[0m\u001b[0;34m\u001b[0m\u001b[0m\n\u001b[1;32m     94\u001b[0m             \u001b[0;32mreturn\u001b[0m \u001b[0mself\u001b[0m\u001b[0;34m.\u001b[0m\u001b[0mdispatch_exception\u001b[0m\u001b[0;34m(\u001b[0m\u001b[0mframe\u001b[0m\u001b[0;34m,\u001b[0m \u001b[0marg\u001b[0m\u001b[0;34m)\u001b[0m\u001b[0;34m\u001b[0m\u001b[0;34m\u001b[0m\u001b[0m\n",
      "\u001b[0;32m/work/aprimpel/anaconda3/lib/python3.7/bdb.py\u001b[0m in \u001b[0;36mdispatch_return\u001b[0;34m(self, frame, arg)\u001b[0m\n\u001b[1;32m    152\u001b[0m             \u001b[0;32mfinally\u001b[0m\u001b[0;34m:\u001b[0m\u001b[0;34m\u001b[0m\u001b[0;34m\u001b[0m\u001b[0m\n\u001b[1;32m    153\u001b[0m                 \u001b[0mself\u001b[0m\u001b[0;34m.\u001b[0m\u001b[0mframe_returning\u001b[0m \u001b[0;34m=\u001b[0m \u001b[0;32mNone\u001b[0m\u001b[0;34m\u001b[0m\u001b[0;34m\u001b[0m\u001b[0m\n\u001b[0;32m--> 154\u001b[0;31m             \u001b[0;32mif\u001b[0m \u001b[0mself\u001b[0m\u001b[0;34m.\u001b[0m\u001b[0mquitting\u001b[0m\u001b[0;34m:\u001b[0m \u001b[0;32mraise\u001b[0m \u001b[0mBdbQuit\u001b[0m\u001b[0;34m\u001b[0m\u001b[0;34m\u001b[0m\u001b[0m\n\u001b[0m\u001b[1;32m    155\u001b[0m             \u001b[0;31m# The user issued a 'next' or 'until' command.\u001b[0m\u001b[0;34m\u001b[0m\u001b[0;34m\u001b[0m\u001b[0;34m\u001b[0m\u001b[0m\n\u001b[1;32m    156\u001b[0m             \u001b[0;32mif\u001b[0m \u001b[0mself\u001b[0m\u001b[0;34m.\u001b[0m\u001b[0mstopframe\u001b[0m \u001b[0;32mis\u001b[0m \u001b[0mframe\u001b[0m \u001b[0;32mand\u001b[0m \u001b[0mself\u001b[0m\u001b[0;34m.\u001b[0m\u001b[0mstoplineno\u001b[0m \u001b[0;34m!=\u001b[0m \u001b[0;34m-\u001b[0m\u001b[0;36m1\u001b[0m\u001b[0;34m:\u001b[0m\u001b[0;34m\u001b[0m\u001b[0;34m\u001b[0m\u001b[0m\n",
      "\u001b[0;31mBdbQuit\u001b[0m: "
     ]
    }
   ],
   "source": [
    "import pandas as pd\n",
    "from sklearn.model_selection import train_test_split\n",
    "import networkx as nx\n",
    "from collections import Counter\n",
    "import random\n",
    "\n",
    "#output_path=\n",
    "pairs_fv= pd.read_csv(output_path+\"all_pairs.csv\")\n",
    "\n",
    "matching_pairs = pairs_fv[pairs_fv.label]\n",
    "non_matching_pairs = pairs_fv[~pairs_fv.label]\n",
    "\n",
    "print(\"Matching Pairs: \", matching_pairs.shape[0])\n",
    "print(\"Non-Matching Pairs: \", non_matching_pairs.shape[0])\n",
    "\n",
    "\n",
    "Graphtype = nx.Graph()\n",
    "G = nx.from_pandas_edgelist(matching_pairs, source= 'source', target='target', create_using=Graphtype)\n",
    "\n",
    "con_components = list(nx.connected_components(G))\n",
    "subgraphs =  [G.subgraph(c).copy() for c in nx.connected_components(G)]\n",
    "con_components_lengths = [len(x) for x in con_components]\n",
    "print(Counter(con_components_lengths))\n",
    "print(len(subgraphs))\n",
    "\n",
    "\n",
    "import pdb;pdb.set_trace();\n",
    "random.Random(42).shuffle(con_components)\n",
    "train_components = con_components[:int(0.7*len(con_components))]\n",
    "\n",
    "\n",
    "test_components = con_components[int(0.7*len(con_components)):]\n",
    "\n",
    "print(\"Components train: \", len(train_components))\n",
    "print(\"Components test: \", len(test_components))\n",
    "\n",
    "subgraph_train = [G.subgraph(c).copy() for c in train_components]\n",
    "train_graph = nx.compose_all(subgraph_train)\n",
    "subgraph_test = [G.subgraph(c).copy() for c in test_components]\n",
    "test_graph = nx.compose_all(subgraph_test)\n",
    "\n",
    "pairs_fv['train_or_test'] = 'not_assigned'\n",
    "clean_train_neg=0\n",
    "clean_test_neg=0\n",
    "for ind, row in pairs_fv.iterrows():\n",
    "    is_match = row['label']\n",
    "    assigned=False\n",
    "    if is_match and train_graph.has_edge(row.source,row.target):\n",
    "        pairs_fv.at[ind, 'train_or_test']='train'\n",
    "        assigned=True\n",
    "    if is_match and test_graph.has_edge(row.source,row.target):\n",
    "        if assigned: \n",
    "            import pdb;pdb.set_trace();\n",
    "            print(\"Already assigned\")\n",
    "        pairs_fv.at[ind, 'train_or_test']='test'\n",
    "        assigned=True\n",
    "    if not(is_match) and train_graph.has_node(row.source) and train_graph.has_node(row.target):\n",
    "        clean_train_neg +=1 \n",
    "        pairs_fv.at[ind, 'train_or_test']='train'\n",
    "        if assigned:\n",
    "            import pdb;pdb.set_trace();\n",
    "            print(\"Already assigned\")\n",
    "        assigned=True\n",
    "    if not(is_match) and test_graph.has_node(row.source) and test_graph.has_node(row.target):\n",
    "        clean_test_neg +=1 \n",
    "        pairs_fv.at[ind, 'train_or_test']='test'\n",
    "        if assigned: \n",
    "            import pdb;pdb.set_trace();\n",
    "            print(\"Already assigned\")\n",
    "        assigned=True\n",
    "    elif not(is_match):\n",
    "        flip = random.randint(1, 10)\n",
    "        if flip<=3: pairs_fv.at[ind, 'train_or_test']='test'\n",
    "        else:  pairs_fv.at[ind, 'train_or_test']='train'\n",
    "        "
   ]
  },
  {
   "cell_type": "code",
   "execution_count": 6,
   "metadata": {},
   "outputs": [
    {
     "name": "stdout",
     "output_type": "stream",
     "text": [
      "positives distribution\n"
     ]
    },
    {
     "data": {
      "text/plain": [
       "Counter({'train': 3424, 'test': 1403})"
      ]
     },
     "metadata": {},
     "output_type": "display_data"
    },
    {
     "name": "stdout",
     "output_type": "stream",
     "text": [
      "negatives destribution\n"
     ]
    },
    {
     "data": {
      "text/plain": [
       "Counter({'train': 47307, 'test': 22373})"
      ]
     },
     "metadata": {},
     "output_type": "display_data"
    },
    {
     "name": "stdout",
     "output_type": "stream",
     "text": [
      "clean train negatives: 11451\n",
      "clean test negatives: 1963\n"
     ]
    }
   ],
   "source": [
    "#save\n",
    "print(\"positives distribution\")\n",
    "display(Counter(pairs_fv[pairs_fv.label]['train_or_test']))\n",
    "print(\"negatives destribution\")\n",
    "display(Counter(pairs_fv[~pairs_fv.label]['train_or_test']))\n",
    "print(\"clean train negatives:\", clean_train_neg)\n",
    "print(\"clean test negatives:\", clean_test_neg)\n",
    "\n",
    "train_fv= pairs_fv[pairs_fv.train_or_test=='train'].drop(columns=['train_or_test'])\n",
    "test_fv= pairs_fv[pairs_fv.train_or_test=='test'].drop(columns=['train_or_test'])\n",
    "\n",
    "train_fv.to_csv(output_path+\"train_pairs_fv.csv\", index= False)\n",
    "test_fv.to_csv(output_path+\"test_pairs_fv.csv\", index= False)"
   ]
  }
 ],
 "metadata": {
  "kernelspec": {
   "display_name": "Python 3",
   "language": "python",
   "name": "python3"
  },
  "language_info": {
   "codemirror_mode": {
    "name": "ipython",
    "version": 3
   },
   "file_extension": ".py",
   "mimetype": "text/x-python",
   "name": "python",
   "nbconvert_exporter": "python",
   "pygments_lexer": "ipython3",
   "version": "3.7.1"
  }
 },
 "nbformat": 4,
 "nbformat_minor": 4
}
