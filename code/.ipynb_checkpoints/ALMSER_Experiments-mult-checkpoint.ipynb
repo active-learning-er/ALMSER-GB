{
 "cells": [
  {
   "cell_type": "markdown",
   "metadata": {},
   "source": [
    "# Specifications"
   ]
  },
  {
   "cell_type": "markdown",
   "metadata": {},
   "source": [
    "Execute a complete pipeline of different experiments, with different datasets and query strategies.\n",
    "Results are written in the output folder almser-"
   ]
  },
  {
   "cell_type": "code",
   "execution_count": 5,
   "metadata": {},
   "outputs": [],
   "source": [
    "import os\n",
    "#write results\n",
    "from datetime import datetime"
   ]
  },
  {
   "cell_type": "code",
   "execution_count": 2,
   "metadata": {},
   "outputs": [],
   "source": [
    "main_path = '../datasets/'\n",
    "fv_ = 'feature_vector_files/'\n",
    "\n",
    "path_list = [main_path+'lspc_computers/'+fv_,main_path+'musicbrainz20K_mutated/'+fv_, main_path+'musicbrainz20K/'+fv_, \n",
    "               main_path+'lspc_computers_mutated/'+fv_,\n",
    "             main_path+'magellan_restaurants/'+fv_]\n",
    "output_path_list = [main_path+'lspc_computers/almser/',main_path+'musicbrainz20K_mutated/almser/', main_path+'musicbrainz20K/almser/', \n",
    "               main_path+'lspc_computers_mutated/almser/',\n",
    "             main_path+'magellan_restaurants/almser/']\n",
    "fv_splitter_list = ['_','_','_','_','__']"
   ]
  },
  {
   "cell_type": "code",
   "execution_count": null,
   "metadata": {},
   "outputs": [
    {
     "name": "stdout",
     "output_type": "stream",
     "text": [
      "Query strategy :  disagreement_post_graph\n",
      "../datasets/lspc_computers/feature_vector_files/\n",
      "../datasets/lspc_computers/almser/\n",
      "Intersection: set()\n",
      "RUN 0\n",
      "Bootstrap model\n",
      "Bootstrap labeled set\n",
      "Calculate pair based transferrability weights for each task\n",
      "Start ALMSER\n",
      "ALMSER Mode: Active Learning |████████████████████████████████████████████████████------------------------------------------------| 52.5% "
     ]
    },
    {
     "name": "stderr",
     "output_type": "stream",
     "text": [
      "/work/aprimpel/python3_venv/transfer_venv_/lib/python3.7/site-packages/sklearn/linear_model/_logistic.py:940: ConvergenceWarning: lbfgs failed to converge (status=1):\n",
      "STOP: TOTAL NO. of ITERATIONS REACHED LIMIT.\n",
      "\n",
      "Increase the number of iterations (max_iter) or scale the data as shown in:\n",
      "    https://scikit-learn.org/stable/modules/preprocessing.html\n",
      "Please also refer to the documentation for alternative solver options:\n",
      "    https://scikit-learn.org/stable/modules/linear_model.html#logistic-regression\n",
      "  extra_warning_msg=_LOGISTIC_SOLVER_CONVERGENCE_MSG)\n"
     ]
    },
    {
     "name": "stdout",
     "output_type": "stream",
     "text": [
      "ALMSER Mode: Active Learning |██████████████████████████████████████████████████████----------------------------------------------| 54.5% "
     ]
    },
    {
     "name": "stderr",
     "output_type": "stream",
     "text": [
      "/work/aprimpel/python3_venv/transfer_venv_/lib/python3.7/site-packages/sklearn/linear_model/_logistic.py:940: ConvergenceWarning: lbfgs failed to converge (status=1):\n",
      "STOP: TOTAL NO. of ITERATIONS REACHED LIMIT.\n",
      "\n",
      "Increase the number of iterations (max_iter) or scale the data as shown in:\n",
      "    https://scikit-learn.org/stable/modules/preprocessing.html\n",
      "Please also refer to the documentation for alternative solver options:\n",
      "    https://scikit-learn.org/stable/modules/linear_model.html#logistic-regression\n",
      "  extra_warning_msg=_LOGISTIC_SOLVER_CONVERGENCE_MSG)\n"
     ]
    },
    {
     "name": "stdout",
     "output_type": "stream",
     "text": [
      "ALMSER Mode: Active Learning |█████████████████████████████████████████████████████████████████████████---------------------------| 73.0% "
     ]
    },
    {
     "name": "stderr",
     "output_type": "stream",
     "text": [
      "/work/aprimpel/python3_venv/transfer_venv_/lib/python3.7/site-packages/sklearn/linear_model/_logistic.py:940: ConvergenceWarning: lbfgs failed to converge (status=1):\n",
      "STOP: TOTAL NO. of ITERATIONS REACHED LIMIT.\n",
      "\n",
      "Increase the number of iterations (max_iter) or scale the data as shown in:\n",
      "    https://scikit-learn.org/stable/modules/preprocessing.html\n",
      "Please also refer to the documentation for alternative solver options:\n",
      "    https://scikit-learn.org/stable/modules/linear_model.html#logistic-regression\n",
      "  extra_warning_msg=_LOGISTIC_SOLVER_CONVERGENCE_MSG)\n"
     ]
    },
    {
     "name": "stdout",
     "output_type": "stream",
     "text": [
      "\r",
      "ALMSER Mode: Active Learning |██████████████████████████████████████████████████████████████████████████--------------------------| 73.5% "
     ]
    },
    {
     "name": "stderr",
     "output_type": "stream",
     "text": [
      "/work/aprimpel/python3_venv/transfer_venv_/lib/python3.7/site-packages/sklearn/linear_model/_logistic.py:940: ConvergenceWarning: lbfgs failed to converge (status=1):\n",
      "STOP: TOTAL NO. of ITERATIONS REACHED LIMIT.\n",
      "\n",
      "Increase the number of iterations (max_iter) or scale the data as shown in:\n",
      "    https://scikit-learn.org/stable/modules/preprocessing.html\n",
      "Please also refer to the documentation for alternative solver options:\n",
      "    https://scikit-learn.org/stable/modules/linear_model.html#logistic-regression\n",
      "  extra_warning_msg=_LOGISTIC_SOLVER_CONVERGENCE_MSG)\n"
     ]
    },
    {
     "name": "stdout",
     "output_type": "stream",
     "text": [
      "ALMSER Mode: Active Learning |█████████████████████████████████████████████████████████████████████████████-----------------------| 77.0% "
     ]
    },
    {
     "name": "stderr",
     "output_type": "stream",
     "text": [
      "/work/aprimpel/python3_venv/transfer_venv_/lib/python3.7/site-packages/sklearn/linear_model/_logistic.py:940: ConvergenceWarning: lbfgs failed to converge (status=1):\n",
      "STOP: TOTAL NO. of ITERATIONS REACHED LIMIT.\n",
      "\n",
      "Increase the number of iterations (max_iter) or scale the data as shown in:\n",
      "    https://scikit-learn.org/stable/modules/preprocessing.html\n",
      "Please also refer to the documentation for alternative solver options:\n",
      "    https://scikit-learn.org/stable/modules/linear_model.html#logistic-regression\n",
      "  extra_warning_msg=_LOGISTIC_SOLVER_CONVERGENCE_MSG)\n"
     ]
    },
    {
     "name": "stdout",
     "output_type": "stream",
     "text": [
      "\r",
      "ALMSER Mode: Active Learning |██████████████████████████████████████████████████████████████████████████████----------------------| 77.5% "
     ]
    },
    {
     "name": "stderr",
     "output_type": "stream",
     "text": [
      "/work/aprimpel/python3_venv/transfer_venv_/lib/python3.7/site-packages/sklearn/linear_model/_logistic.py:940: ConvergenceWarning: lbfgs failed to converge (status=1):\n",
      "STOP: TOTAL NO. of ITERATIONS REACHED LIMIT.\n",
      "\n",
      "Increase the number of iterations (max_iter) or scale the data as shown in:\n",
      "    https://scikit-learn.org/stable/modules/preprocessing.html\n",
      "Please also refer to the documentation for alternative solver options:\n",
      "    https://scikit-learn.org/stable/modules/linear_model.html#logistic-regression\n",
      "  extra_warning_msg=_LOGISTIC_SOLVER_CONVERGENCE_MSG)\n"
     ]
    },
    {
     "name": "stdout",
     "output_type": "stream",
     "text": [
      "ALMSER Mode: Active Learning |██████████████████████████████████████████████████████████████████████████████----------------------| 78.5% "
     ]
    },
    {
     "name": "stderr",
     "output_type": "stream",
     "text": [
      "/work/aprimpel/python3_venv/transfer_venv_/lib/python3.7/site-packages/sklearn/linear_model/_logistic.py:940: ConvergenceWarning: lbfgs failed to converge (status=1):\n",
      "STOP: TOTAL NO. of ITERATIONS REACHED LIMIT.\n",
      "\n",
      "Increase the number of iterations (max_iter) or scale the data as shown in:\n",
      "    https://scikit-learn.org/stable/modules/preprocessing.html\n",
      "Please also refer to the documentation for alternative solver options:\n",
      "    https://scikit-learn.org/stable/modules/linear_model.html#logistic-regression\n",
      "  extra_warning_msg=_LOGISTIC_SOLVER_CONVERGENCE_MSG)\n"
     ]
    },
    {
     "name": "stdout",
     "output_type": "stream",
     "text": [
      "\r",
      "ALMSER Mode: Active Learning |███████████████████████████████████████████████████████████████████████████████---------------------| 79.0% "
     ]
    },
    {
     "name": "stderr",
     "output_type": "stream",
     "text": [
      "/work/aprimpel/python3_venv/transfer_venv_/lib/python3.7/site-packages/sklearn/linear_model/_logistic.py:940: ConvergenceWarning: lbfgs failed to converge (status=1):\n",
      "STOP: TOTAL NO. of ITERATIONS REACHED LIMIT.\n",
      "\n",
      "Increase the number of iterations (max_iter) or scale the data as shown in:\n",
      "    https://scikit-learn.org/stable/modules/preprocessing.html\n",
      "Please also refer to the documentation for alternative solver options:\n",
      "    https://scikit-learn.org/stable/modules/linear_model.html#logistic-regression\n",
      "  extra_warning_msg=_LOGISTIC_SOLVER_CONVERGENCE_MSG)\n"
     ]
    },
    {
     "name": "stdout",
     "output_type": "stream",
     "text": [
      "ALMSER Mode: Active Learning |██████████████████████████████████████████████████████████████████████████████████------------------| 82.0% "
     ]
    },
    {
     "name": "stderr",
     "output_type": "stream",
     "text": [
      "/work/aprimpel/python3_venv/transfer_venv_/lib/python3.7/site-packages/sklearn/linear_model/_logistic.py:940: ConvergenceWarning: lbfgs failed to converge (status=1):\n",
      "STOP: TOTAL NO. of ITERATIONS REACHED LIMIT.\n",
      "\n",
      "Increase the number of iterations (max_iter) or scale the data as shown in:\n",
      "    https://scikit-learn.org/stable/modules/preprocessing.html\n",
      "Please also refer to the documentation for alternative solver options:\n",
      "    https://scikit-learn.org/stable/modules/linear_model.html#logistic-regression\n",
      "  extra_warning_msg=_LOGISTIC_SOLVER_CONVERGENCE_MSG)\n"
     ]
    },
    {
     "name": "stdout",
     "output_type": "stream",
     "text": [
      "ALMSER Mode: Active Learning |█████████████████████████████████████████████████████████████████████████████████████---------------| 85.0% "
     ]
    },
    {
     "name": "stderr",
     "output_type": "stream",
     "text": [
      "/work/aprimpel/python3_venv/transfer_venv_/lib/python3.7/site-packages/sklearn/linear_model/_logistic.py:940: ConvergenceWarning: lbfgs failed to converge (status=1):\n",
      "STOP: TOTAL NO. of ITERATIONS REACHED LIMIT.\n",
      "\n",
      "Increase the number of iterations (max_iter) or scale the data as shown in:\n",
      "    https://scikit-learn.org/stable/modules/preprocessing.html\n",
      "Please also refer to the documentation for alternative solver options:\n",
      "    https://scikit-learn.org/stable/modules/linear_model.html#logistic-regression\n",
      "  extra_warning_msg=_LOGISTIC_SOLVER_CONVERGENCE_MSG)\n"
     ]
    },
    {
     "name": "stdout",
     "output_type": "stream",
     "text": [
      "ALMSER Mode: Active Learning |████████████████████████████████████████████████████████████████████████████████████████------------| 88.5% "
     ]
    },
    {
     "name": "stderr",
     "output_type": "stream",
     "text": [
      "/work/aprimpel/python3_venv/transfer_venv_/lib/python3.7/site-packages/sklearn/linear_model/_logistic.py:940: ConvergenceWarning: lbfgs failed to converge (status=1):\n",
      "STOP: TOTAL NO. of ITERATIONS REACHED LIMIT.\n",
      "\n",
      "Increase the number of iterations (max_iter) or scale the data as shown in:\n",
      "    https://scikit-learn.org/stable/modules/preprocessing.html\n",
      "Please also refer to the documentation for alternative solver options:\n",
      "    https://scikit-learn.org/stable/modules/linear_model.html#logistic-regression\n",
      "  extra_warning_msg=_LOGISTIC_SOLVER_CONVERGENCE_MSG)\n"
     ]
    },
    {
     "name": "stdout",
     "output_type": "stream",
     "text": [
      "\r",
      "ALMSER Mode: Active Learning |█████████████████████████████████████████████████████████████████████████████████████████-----------| 89.0% "
     ]
    },
    {
     "name": "stderr",
     "output_type": "stream",
     "text": [
      "/work/aprimpel/python3_venv/transfer_venv_/lib/python3.7/site-packages/sklearn/linear_model/_logistic.py:940: ConvergenceWarning: lbfgs failed to converge (status=1):\n",
      "STOP: TOTAL NO. of ITERATIONS REACHED LIMIT.\n",
      "\n",
      "Increase the number of iterations (max_iter) or scale the data as shown in:\n",
      "    https://scikit-learn.org/stable/modules/preprocessing.html\n",
      "Please also refer to the documentation for alternative solver options:\n",
      "    https://scikit-learn.org/stable/modules/linear_model.html#logistic-regression\n",
      "  extra_warning_msg=_LOGISTIC_SOLVER_CONVERGENCE_MSG)\n"
     ]
    },
    {
     "name": "stdout",
     "output_type": "stream",
     "text": [
      "ALMSER Mode: Active Learning |████████████████████████████████████████████████████████████████████████████████████████████--------| 92.0% "
     ]
    },
    {
     "name": "stderr",
     "output_type": "stream",
     "text": [
      "/work/aprimpel/python3_venv/transfer_venv_/lib/python3.7/site-packages/sklearn/linear_model/_logistic.py:940: ConvergenceWarning: lbfgs failed to converge (status=1):\n",
      "STOP: TOTAL NO. of ITERATIONS REACHED LIMIT.\n",
      "\n",
      "Increase the number of iterations (max_iter) or scale the data as shown in:\n",
      "    https://scikit-learn.org/stable/modules/preprocessing.html\n",
      "Please also refer to the documentation for alternative solver options:\n",
      "    https://scikit-learn.org/stable/modules/linear_model.html#logistic-regression\n",
      "  extra_warning_msg=_LOGISTIC_SOLVER_CONVERGENCE_MSG)\n"
     ]
    },
    {
     "name": "stdout",
     "output_type": "stream",
     "text": [
      "\r",
      "ALMSER Mode: Active Learning |████████████████████████████████████████████████████████████████████████████████████████████--------| 92.5% "
     ]
    },
    {
     "name": "stderr",
     "output_type": "stream",
     "text": [
      "/work/aprimpel/python3_venv/transfer_venv_/lib/python3.7/site-packages/sklearn/linear_model/_logistic.py:940: ConvergenceWarning: lbfgs failed to converge (status=1):\n",
      "STOP: TOTAL NO. of ITERATIONS REACHED LIMIT.\n",
      "\n",
      "Increase the number of iterations (max_iter) or scale the data as shown in:\n",
      "    https://scikit-learn.org/stable/modules/preprocessing.html\n",
      "Please also refer to the documentation for alternative solver options:\n",
      "    https://scikit-learn.org/stable/modules/linear_model.html#logistic-regression\n",
      "  extra_warning_msg=_LOGISTIC_SOLVER_CONVERGENCE_MSG)\n"
     ]
    },
    {
     "name": "stdout",
     "output_type": "stream",
     "text": [
      "\r",
      "ALMSER Mode: Active Learning |█████████████████████████████████████████████████████████████████████████████████████████████-------| 93.0% "
     ]
    },
    {
     "name": "stderr",
     "output_type": "stream",
     "text": [
      "/work/aprimpel/python3_venv/transfer_venv_/lib/python3.7/site-packages/sklearn/linear_model/_logistic.py:940: ConvergenceWarning: lbfgs failed to converge (status=1):\n",
      "STOP: TOTAL NO. of ITERATIONS REACHED LIMIT.\n",
      "\n",
      "Increase the number of iterations (max_iter) or scale the data as shown in:\n",
      "    https://scikit-learn.org/stable/modules/preprocessing.html\n",
      "Please also refer to the documentation for alternative solver options:\n",
      "    https://scikit-learn.org/stable/modules/linear_model.html#logistic-regression\n",
      "  extra_warning_msg=_LOGISTIC_SOLVER_CONVERGENCE_MSG)\n"
     ]
    },
    {
     "name": "stdout",
     "output_type": "stream",
     "text": [
      "ALMSER Mode: Active Learning |███████████████████████████████████████████████████████████████████████████████████████████████-----| 95.0% "
     ]
    },
    {
     "name": "stderr",
     "output_type": "stream",
     "text": [
      "/work/aprimpel/python3_venv/transfer_venv_/lib/python3.7/site-packages/sklearn/linear_model/_logistic.py:940: ConvergenceWarning: lbfgs failed to converge (status=1):\n",
      "STOP: TOTAL NO. of ITERATIONS REACHED LIMIT.\n",
      "\n",
      "Increase the number of iterations (max_iter) or scale the data as shown in:\n",
      "    https://scikit-learn.org/stable/modules/preprocessing.html\n",
      "Please also refer to the documentation for alternative solver options:\n",
      "    https://scikit-learn.org/stable/modules/linear_model.html#logistic-regression\n",
      "  extra_warning_msg=_LOGISTIC_SOLVER_CONVERGENCE_MSG)\n"
     ]
    },
    {
     "name": "stdout",
     "output_type": "stream",
     "text": [
      "ALMSER Mode: Active Learning |████████████████████████████████████████████████████████████████████████████████████████████████----| 96.5% "
     ]
    },
    {
     "name": "stderr",
     "output_type": "stream",
     "text": [
      "/work/aprimpel/python3_venv/transfer_venv_/lib/python3.7/site-packages/sklearn/linear_model/_logistic.py:940: ConvergenceWarning: lbfgs failed to converge (status=1):\n",
      "STOP: TOTAL NO. of ITERATIONS REACHED LIMIT.\n",
      "\n",
      "Increase the number of iterations (max_iter) or scale the data as shown in:\n",
      "    https://scikit-learn.org/stable/modules/preprocessing.html\n",
      "Please also refer to the documentation for alternative solver options:\n",
      "    https://scikit-learn.org/stable/modules/linear_model.html#logistic-regression\n",
      "  extra_warning_msg=_LOGISTIC_SOLVER_CONVERGENCE_MSG)\n"
     ]
    },
    {
     "name": "stdout",
     "output_type": "stream",
     "text": [
      "\r",
      "ALMSER Mode: Active Learning |█████████████████████████████████████████████████████████████████████████████████████████████████---| 97.0% "
     ]
    },
    {
     "name": "stderr",
     "output_type": "stream",
     "text": [
      "/work/aprimpel/python3_venv/transfer_venv_/lib/python3.7/site-packages/sklearn/linear_model/_logistic.py:940: ConvergenceWarning: lbfgs failed to converge (status=1):\n",
      "STOP: TOTAL NO. of ITERATIONS REACHED LIMIT.\n",
      "\n",
      "Increase the number of iterations (max_iter) or scale the data as shown in:\n",
      "    https://scikit-learn.org/stable/modules/preprocessing.html\n",
      "Please also refer to the documentation for alternative solver options:\n",
      "    https://scikit-learn.org/stable/modules/linear_model.html#logistic-regression\n",
      "  extra_warning_msg=_LOGISTIC_SOLVER_CONVERGENCE_MSG)\n"
     ]
    },
    {
     "name": "stdout",
     "output_type": "stream",
     "text": [
      "\r",
      "ALMSER Mode: Active Learning |██████████████████████████████████████████████████████████████████████████████████████████████████--| 97.5% "
     ]
    },
    {
     "name": "stderr",
     "output_type": "stream",
     "text": [
      "/work/aprimpel/python3_venv/transfer_venv_/lib/python3.7/site-packages/sklearn/linear_model/_logistic.py:940: ConvergenceWarning: lbfgs failed to converge (status=1):\n",
      "STOP: TOTAL NO. of ITERATIONS REACHED LIMIT.\n",
      "\n",
      "Increase the number of iterations (max_iter) or scale the data as shown in:\n",
      "    https://scikit-learn.org/stable/modules/preprocessing.html\n",
      "Please also refer to the documentation for alternative solver options:\n",
      "    https://scikit-learn.org/stable/modules/linear_model.html#logistic-regression\n",
      "  extra_warning_msg=_LOGISTIC_SOLVER_CONVERGENCE_MSG)\n"
     ]
    },
    {
     "name": "stdout",
     "output_type": "stream",
     "text": [
      "\r",
      "ALMSER Mode: Active Learning |██████████████████████████████████████████████████████████████████████████████████████████████████--| 98.0% "
     ]
    },
    {
     "name": "stderr",
     "output_type": "stream",
     "text": [
      "/work/aprimpel/python3_venv/transfer_venv_/lib/python3.7/site-packages/sklearn/linear_model/_logistic.py:940: ConvergenceWarning: lbfgs failed to converge (status=1):\n",
      "STOP: TOTAL NO. of ITERATIONS REACHED LIMIT.\n",
      "\n",
      "Increase the number of iterations (max_iter) or scale the data as shown in:\n",
      "    https://scikit-learn.org/stable/modules/preprocessing.html\n",
      "Please also refer to the documentation for alternative solver options:\n",
      "    https://scikit-learn.org/stable/modules/linear_model.html#logistic-regression\n",
      "  extra_warning_msg=_LOGISTIC_SOLVER_CONVERGENCE_MSG)\n"
     ]
    },
    {
     "name": "stdout",
     "output_type": "stream",
     "text": [
      "ALMSER Mode: Active Learning |███████████████████████████████████████████████████████████████████████████████████████████████████-| 99.0% "
     ]
    },
    {
     "name": "stderr",
     "output_type": "stream",
     "text": [
      "/work/aprimpel/python3_venv/transfer_venv_/lib/python3.7/site-packages/sklearn/linear_model/_logistic.py:940: ConvergenceWarning: lbfgs failed to converge (status=1):\n",
      "STOP: TOTAL NO. of ITERATIONS REACHED LIMIT.\n",
      "\n",
      "Increase the number of iterations (max_iter) or scale the data as shown in:\n",
      "    https://scikit-learn.org/stable/modules/preprocessing.html\n",
      "Please also refer to the documentation for alternative solver options:\n",
      "    https://scikit-learn.org/stable/modules/linear_model.html#logistic-regression\n",
      "  extra_warning_msg=_LOGISTIC_SOLVER_CONVERGENCE_MSG)\n"
     ]
    },
    {
     "name": "stdout",
     "output_type": "stream",
     "text": [
      "ALMSER Mode: Active Learning |████████████████████████████████████████████████████████████████████████████████████████████████████| 100.0% \n",
      "RUN 1\n",
      "Bootstrap model\n",
      "Bootstrap labeled set\n",
      "Calculate pair based transferrability weights for each task\n",
      "Start ALMSER\n",
      "ALMSER Mode: Active Learning |████████████████████████████████████████████████████████████████████--------------------------------| 68.5% "
     ]
    },
    {
     "name": "stderr",
     "output_type": "stream",
     "text": [
      "/work/aprimpel/python3_venv/transfer_venv_/lib/python3.7/site-packages/sklearn/linear_model/_logistic.py:940: ConvergenceWarning: lbfgs failed to converge (status=1):\n",
      "STOP: TOTAL NO. of ITERATIONS REACHED LIMIT.\n",
      "\n",
      "Increase the number of iterations (max_iter) or scale the data as shown in:\n",
      "    https://scikit-learn.org/stable/modules/preprocessing.html\n",
      "Please also refer to the documentation for alternative solver options:\n",
      "    https://scikit-learn.org/stable/modules/linear_model.html#logistic-regression\n",
      "  extra_warning_msg=_LOGISTIC_SOLVER_CONVERGENCE_MSG)\n"
     ]
    },
    {
     "name": "stdout",
     "output_type": "stream",
     "text": [
      "ALMSER Mode: Active Learning |███████████████████████████████████████████████████████████████████████████-------------------------| 75.0% "
     ]
    },
    {
     "name": "stderr",
     "output_type": "stream",
     "text": [
      "/work/aprimpel/python3_venv/transfer_venv_/lib/python3.7/site-packages/sklearn/linear_model/_logistic.py:940: ConvergenceWarning: lbfgs failed to converge (status=1):\n",
      "STOP: TOTAL NO. of ITERATIONS REACHED LIMIT.\n",
      "\n",
      "Increase the number of iterations (max_iter) or scale the data as shown in:\n",
      "    https://scikit-learn.org/stable/modules/preprocessing.html\n",
      "Please also refer to the documentation for alternative solver options:\n",
      "    https://scikit-learn.org/stable/modules/linear_model.html#logistic-regression\n",
      "  extra_warning_msg=_LOGISTIC_SOLVER_CONVERGENCE_MSG)\n"
     ]
    },
    {
     "name": "stdout",
     "output_type": "stream",
     "text": [
      "\r",
      "ALMSER Mode: Active Learning |████████████████████████████████████████████████████████████████████████████------------------------| 75.5% "
     ]
    },
    {
     "name": "stderr",
     "output_type": "stream",
     "text": [
      "/work/aprimpel/python3_venv/transfer_venv_/lib/python3.7/site-packages/sklearn/linear_model/_logistic.py:940: ConvergenceWarning: lbfgs failed to converge (status=1):\n",
      "STOP: TOTAL NO. of ITERATIONS REACHED LIMIT.\n",
      "\n",
      "Increase the number of iterations (max_iter) or scale the data as shown in:\n",
      "    https://scikit-learn.org/stable/modules/preprocessing.html\n",
      "Please also refer to the documentation for alternative solver options:\n",
      "    https://scikit-learn.org/stable/modules/linear_model.html#logistic-regression\n",
      "  extra_warning_msg=_LOGISTIC_SOLVER_CONVERGENCE_MSG)\n"
     ]
    },
    {
     "name": "stdout",
     "output_type": "stream",
     "text": [
      "ALMSER Mode: Active Learning |████████████████████████████████████████████████████████████████████████████████████----------------| 84.5% "
     ]
    },
    {
     "name": "stderr",
     "output_type": "stream",
     "text": [
      "/work/aprimpel/python3_venv/transfer_venv_/lib/python3.7/site-packages/sklearn/linear_model/_logistic.py:940: ConvergenceWarning: lbfgs failed to converge (status=1):\n",
      "STOP: TOTAL NO. of ITERATIONS REACHED LIMIT.\n",
      "\n",
      "Increase the number of iterations (max_iter) or scale the data as shown in:\n",
      "    https://scikit-learn.org/stable/modules/preprocessing.html\n",
      "Please also refer to the documentation for alternative solver options:\n",
      "    https://scikit-learn.org/stable/modules/linear_model.html#logistic-regression\n",
      "  extra_warning_msg=_LOGISTIC_SOLVER_CONVERGENCE_MSG)\n"
     ]
    },
    {
     "name": "stdout",
     "output_type": "stream",
     "text": [
      "ALMSER Mode: Active Learning |███████████████████████████████████████████████████████████████████████████████████████-------------| 87.0% "
     ]
    },
    {
     "name": "stderr",
     "output_type": "stream",
     "text": [
      "/work/aprimpel/python3_venv/transfer_venv_/lib/python3.7/site-packages/sklearn/linear_model/_logistic.py:940: ConvergenceWarning: lbfgs failed to converge (status=1):\n",
      "STOP: TOTAL NO. of ITERATIONS REACHED LIMIT.\n",
      "\n",
      "Increase the number of iterations (max_iter) or scale the data as shown in:\n",
      "    https://scikit-learn.org/stable/modules/preprocessing.html\n",
      "Please also refer to the documentation for alternative solver options:\n",
      "    https://scikit-learn.org/stable/modules/linear_model.html#logistic-regression\n",
      "  extra_warning_msg=_LOGISTIC_SOLVER_CONVERGENCE_MSG)\n"
     ]
    },
    {
     "name": "stdout",
     "output_type": "stream",
     "text": [
      "ALMSER Mode: Active Learning |█████████████████████████████████████████████████████████████████████████████████████████-----------| 89.0% "
     ]
    },
    {
     "name": "stderr",
     "output_type": "stream",
     "text": [
      "/work/aprimpel/python3_venv/transfer_venv_/lib/python3.7/site-packages/sklearn/linear_model/_logistic.py:940: ConvergenceWarning: lbfgs failed to converge (status=1):\n",
      "STOP: TOTAL NO. of ITERATIONS REACHED LIMIT.\n",
      "\n",
      "Increase the number of iterations (max_iter) or scale the data as shown in:\n",
      "    https://scikit-learn.org/stable/modules/preprocessing.html\n",
      "Please also refer to the documentation for alternative solver options:\n",
      "    https://scikit-learn.org/stable/modules/linear_model.html#logistic-regression\n",
      "  extra_warning_msg=_LOGISTIC_SOLVER_CONVERGENCE_MSG)\n"
     ]
    },
    {
     "name": "stdout",
     "output_type": "stream",
     "text": [
      "ALMSER Mode: Active Learning |███████████████████████████████████████████████████████████████████████████████████████████---------| 91.0% "
     ]
    },
    {
     "name": "stderr",
     "output_type": "stream",
     "text": [
      "/work/aprimpel/python3_venv/transfer_venv_/lib/python3.7/site-packages/sklearn/linear_model/_logistic.py:940: ConvergenceWarning: lbfgs failed to converge (status=1):\n",
      "STOP: TOTAL NO. of ITERATIONS REACHED LIMIT.\n",
      "\n",
      "Increase the number of iterations (max_iter) or scale the data as shown in:\n",
      "    https://scikit-learn.org/stable/modules/preprocessing.html\n",
      "Please also refer to the documentation for alternative solver options:\n",
      "    https://scikit-learn.org/stable/modules/linear_model.html#logistic-regression\n",
      "  extra_warning_msg=_LOGISTIC_SOLVER_CONVERGENCE_MSG)\n"
     ]
    },
    {
     "name": "stdout",
     "output_type": "stream",
     "text": [
      "\r",
      "ALMSER Mode: Active Learning |████████████████████████████████████████████████████████████████████████████████████████████--------| 91.5% "
     ]
    },
    {
     "name": "stderr",
     "output_type": "stream",
     "text": [
      "/work/aprimpel/python3_venv/transfer_venv_/lib/python3.7/site-packages/sklearn/linear_model/_logistic.py:940: ConvergenceWarning: lbfgs failed to converge (status=1):\n",
      "STOP: TOTAL NO. of ITERATIONS REACHED LIMIT.\n",
      "\n",
      "Increase the number of iterations (max_iter) or scale the data as shown in:\n",
      "    https://scikit-learn.org/stable/modules/preprocessing.html\n",
      "Please also refer to the documentation for alternative solver options:\n",
      "    https://scikit-learn.org/stable/modules/linear_model.html#logistic-regression\n",
      "  extra_warning_msg=_LOGISTIC_SOLVER_CONVERGENCE_MSG)\n"
     ]
    },
    {
     "name": "stdout",
     "output_type": "stream",
     "text": [
      "\r",
      "ALMSER Mode: Active Learning |████████████████████████████████████████████████████████████████████████████████████████████--------| 92.0% "
     ]
    },
    {
     "name": "stderr",
     "output_type": "stream",
     "text": [
      "/work/aprimpel/python3_venv/transfer_venv_/lib/python3.7/site-packages/sklearn/linear_model/_logistic.py:940: ConvergenceWarning: lbfgs failed to converge (status=1):\n",
      "STOP: TOTAL NO. of ITERATIONS REACHED LIMIT.\n",
      "\n",
      "Increase the number of iterations (max_iter) or scale the data as shown in:\n",
      "    https://scikit-learn.org/stable/modules/preprocessing.html\n",
      "Please also refer to the documentation for alternative solver options:\n",
      "    https://scikit-learn.org/stable/modules/linear_model.html#logistic-regression\n",
      "  extra_warning_msg=_LOGISTIC_SOLVER_CONVERGENCE_MSG)\n"
     ]
    },
    {
     "name": "stdout",
     "output_type": "stream",
     "text": [
      "ALMSER Mode: Active Learning |██████████████████████████████████████████████████████████████████████████████████████████████████--| 97.5% "
     ]
    },
    {
     "name": "stderr",
     "output_type": "stream",
     "text": [
      "/work/aprimpel/python3_venv/transfer_venv_/lib/python3.7/site-packages/sklearn/linear_model/_logistic.py:940: ConvergenceWarning: lbfgs failed to converge (status=1):\n",
      "STOP: TOTAL NO. of ITERATIONS REACHED LIMIT.\n",
      "\n",
      "Increase the number of iterations (max_iter) or scale the data as shown in:\n",
      "    https://scikit-learn.org/stable/modules/preprocessing.html\n",
      "Please also refer to the documentation for alternative solver options:\n",
      "    https://scikit-learn.org/stable/modules/linear_model.html#logistic-regression\n",
      "  extra_warning_msg=_LOGISTIC_SOLVER_CONVERGENCE_MSG)\n"
     ]
    },
    {
     "name": "stdout",
     "output_type": "stream",
     "text": [
      "ALMSER Mode: Active Learning |██████████████████████████████████████████████████████████████████████████████████████████████████--| 98.5% "
     ]
    },
    {
     "name": "stderr",
     "output_type": "stream",
     "text": [
      "/work/aprimpel/python3_venv/transfer_venv_/lib/python3.7/site-packages/sklearn/linear_model/_logistic.py:940: ConvergenceWarning: lbfgs failed to converge (status=1):\n",
      "STOP: TOTAL NO. of ITERATIONS REACHED LIMIT.\n",
      "\n",
      "Increase the number of iterations (max_iter) or scale the data as shown in:\n",
      "    https://scikit-learn.org/stable/modules/preprocessing.html\n",
      "Please also refer to the documentation for alternative solver options:\n",
      "    https://scikit-learn.org/stable/modules/linear_model.html#logistic-regression\n",
      "  extra_warning_msg=_LOGISTIC_SOLVER_CONVERGENCE_MSG)\n"
     ]
    },
    {
     "name": "stdout",
     "output_type": "stream",
     "text": [
      "\r",
      "ALMSER Mode: Active Learning |███████████████████████████████████████████████████████████████████████████████████████████████████-| 99.0% "
     ]
    },
    {
     "name": "stderr",
     "output_type": "stream",
     "text": [
      "/work/aprimpel/python3_venv/transfer_venv_/lib/python3.7/site-packages/sklearn/linear_model/_logistic.py:940: ConvergenceWarning: lbfgs failed to converge (status=1):\n",
      "STOP: TOTAL NO. of ITERATIONS REACHED LIMIT.\n",
      "\n",
      "Increase the number of iterations (max_iter) or scale the data as shown in:\n",
      "    https://scikit-learn.org/stable/modules/preprocessing.html\n",
      "Please also refer to the documentation for alternative solver options:\n",
      "    https://scikit-learn.org/stable/modules/linear_model.html#logistic-regression\n",
      "  extra_warning_msg=_LOGISTIC_SOLVER_CONVERGENCE_MSG)\n"
     ]
    },
    {
     "name": "stdout",
     "output_type": "stream",
     "text": [
      "ALMSER Mode: Active Learning |████████████████████████████████████████████████████████████████████████████████████████████████████| 100.0% \n",
      "RUN 2\n",
      "Bootstrap model\n",
      "Bootstrap labeled set\n",
      "Calculate pair based transferrability weights for each task\n",
      "Start ALMSER\n",
      "ALMSER Mode: Active Learning |█████████████████████████████████████████████████████████████████████████████-----------------------| 77.0% "
     ]
    },
    {
     "name": "stderr",
     "output_type": "stream",
     "text": [
      "/work/aprimpel/python3_venv/transfer_venv_/lib/python3.7/site-packages/sklearn/linear_model/_logistic.py:940: ConvergenceWarning: lbfgs failed to converge (status=1):\n",
      "STOP: TOTAL NO. of ITERATIONS REACHED LIMIT.\n",
      "\n",
      "Increase the number of iterations (max_iter) or scale the data as shown in:\n",
      "    https://scikit-learn.org/stable/modules/preprocessing.html\n",
      "Please also refer to the documentation for alternative solver options:\n",
      "    https://scikit-learn.org/stable/modules/linear_model.html#logistic-regression\n",
      "  extra_warning_msg=_LOGISTIC_SOLVER_CONVERGENCE_MSG)\n"
     ]
    },
    {
     "name": "stdout",
     "output_type": "stream",
     "text": [
      "ALMSER Mode: Active Learning |████████████████████████████████████████████████████████████████████████████████--------------------| 79.5% "
     ]
    },
    {
     "name": "stderr",
     "output_type": "stream",
     "text": [
      "/work/aprimpel/python3_venv/transfer_venv_/lib/python3.7/site-packages/sklearn/linear_model/_logistic.py:940: ConvergenceWarning: lbfgs failed to converge (status=1):\n",
      "STOP: TOTAL NO. of ITERATIONS REACHED LIMIT.\n",
      "\n",
      "Increase the number of iterations (max_iter) or scale the data as shown in:\n",
      "    https://scikit-learn.org/stable/modules/preprocessing.html\n",
      "Please also refer to the documentation for alternative solver options:\n",
      "    https://scikit-learn.org/stable/modules/linear_model.html#logistic-regression\n",
      "  extra_warning_msg=_LOGISTIC_SOLVER_CONVERGENCE_MSG)\n"
     ]
    },
    {
     "name": "stdout",
     "output_type": "stream",
     "text": [
      "ALMSER Mode: Active Learning |██████████████████████████████████████████████████████████████████████████████████------------------| 82.5% "
     ]
    },
    {
     "name": "stderr",
     "output_type": "stream",
     "text": [
      "/work/aprimpel/python3_venv/transfer_venv_/lib/python3.7/site-packages/sklearn/linear_model/_logistic.py:940: ConvergenceWarning: lbfgs failed to converge (status=1):\n",
      "STOP: TOTAL NO. of ITERATIONS REACHED LIMIT.\n",
      "\n",
      "Increase the number of iterations (max_iter) or scale the data as shown in:\n",
      "    https://scikit-learn.org/stable/modules/preprocessing.html\n",
      "Please also refer to the documentation for alternative solver options:\n",
      "    https://scikit-learn.org/stable/modules/linear_model.html#logistic-regression\n",
      "  extra_warning_msg=_LOGISTIC_SOLVER_CONVERGENCE_MSG)\n"
     ]
    },
    {
     "name": "stdout",
     "output_type": "stream",
     "text": [
      "ALMSER Mode: Active Learning |████████████████████████████████████████████████████████████████████████████████████----------------| 83.5% "
     ]
    },
    {
     "name": "stderr",
     "output_type": "stream",
     "text": [
      "/work/aprimpel/python3_venv/transfer_venv_/lib/python3.7/site-packages/sklearn/linear_model/_logistic.py:940: ConvergenceWarning: lbfgs failed to converge (status=1):\n",
      "STOP: TOTAL NO. of ITERATIONS REACHED LIMIT.\n",
      "\n",
      "Increase the number of iterations (max_iter) or scale the data as shown in:\n",
      "    https://scikit-learn.org/stable/modules/preprocessing.html\n",
      "Please also refer to the documentation for alternative solver options:\n",
      "    https://scikit-learn.org/stable/modules/linear_model.html#logistic-regression\n",
      "  extra_warning_msg=_LOGISTIC_SOLVER_CONVERGENCE_MSG)\n"
     ]
    },
    {
     "name": "stdout",
     "output_type": "stream",
     "text": [
      "ALMSER Mode: Active Learning |████████████████████████████████████████████████████████████████████████████████████████------------| 87.5% "
     ]
    },
    {
     "name": "stderr",
     "output_type": "stream",
     "text": [
      "/work/aprimpel/python3_venv/transfer_venv_/lib/python3.7/site-packages/sklearn/linear_model/_logistic.py:940: ConvergenceWarning: lbfgs failed to converge (status=1):\n",
      "STOP: TOTAL NO. of ITERATIONS REACHED LIMIT.\n",
      "\n",
      "Increase the number of iterations (max_iter) or scale the data as shown in:\n",
      "    https://scikit-learn.org/stable/modules/preprocessing.html\n",
      "Please also refer to the documentation for alternative solver options:\n",
      "    https://scikit-learn.org/stable/modules/linear_model.html#logistic-regression\n",
      "  extra_warning_msg=_LOGISTIC_SOLVER_CONVERGENCE_MSG)\n"
     ]
    },
    {
     "name": "stdout",
     "output_type": "stream",
     "text": [
      "ALMSER Mode: Active Learning |████████████████████████████████████████████████████████████████████████████████████████████--------| 91.5% "
     ]
    },
    {
     "name": "stderr",
     "output_type": "stream",
     "text": [
      "/work/aprimpel/python3_venv/transfer_venv_/lib/python3.7/site-packages/sklearn/linear_model/_logistic.py:940: ConvergenceWarning: lbfgs failed to converge (status=1):\n",
      "STOP: TOTAL NO. of ITERATIONS REACHED LIMIT.\n",
      "\n",
      "Increase the number of iterations (max_iter) or scale the data as shown in:\n",
      "    https://scikit-learn.org/stable/modules/preprocessing.html\n",
      "Please also refer to the documentation for alternative solver options:\n",
      "    https://scikit-learn.org/stable/modules/linear_model.html#logistic-regression\n",
      "  extra_warning_msg=_LOGISTIC_SOLVER_CONVERGENCE_MSG)\n"
     ]
    },
    {
     "name": "stdout",
     "output_type": "stream",
     "text": [
      "ALMSER Mode: Active Learning |██████████████████████████████████████████████████████████████████████████████████████████████------| 94.0% "
     ]
    },
    {
     "name": "stderr",
     "output_type": "stream",
     "text": [
      "/work/aprimpel/python3_venv/transfer_venv_/lib/python3.7/site-packages/sklearn/linear_model/_logistic.py:940: ConvergenceWarning: lbfgs failed to converge (status=1):\n",
      "STOP: TOTAL NO. of ITERATIONS REACHED LIMIT.\n",
      "\n",
      "Increase the number of iterations (max_iter) or scale the data as shown in:\n",
      "    https://scikit-learn.org/stable/modules/preprocessing.html\n",
      "Please also refer to the documentation for alternative solver options:\n",
      "    https://scikit-learn.org/stable/modules/linear_model.html#logistic-regression\n",
      "  extra_warning_msg=_LOGISTIC_SOLVER_CONVERGENCE_MSG)\n"
     ]
    },
    {
     "name": "stdout",
     "output_type": "stream",
     "text": [
      "ALMSER Mode: Active Learning |███████████████████████████████████████████████████████████████████████████████████████████████-----| 95.0% "
     ]
    },
    {
     "name": "stderr",
     "output_type": "stream",
     "text": [
      "/work/aprimpel/python3_venv/transfer_venv_/lib/python3.7/site-packages/sklearn/linear_model/_logistic.py:940: ConvergenceWarning: lbfgs failed to converge (status=1):\n",
      "STOP: TOTAL NO. of ITERATIONS REACHED LIMIT.\n",
      "\n",
      "Increase the number of iterations (max_iter) or scale the data as shown in:\n",
      "    https://scikit-learn.org/stable/modules/preprocessing.html\n",
      "Please also refer to the documentation for alternative solver options:\n",
      "    https://scikit-learn.org/stable/modules/linear_model.html#logistic-regression\n",
      "  extra_warning_msg=_LOGISTIC_SOLVER_CONVERGENCE_MSG)\n"
     ]
    },
    {
     "name": "stdout",
     "output_type": "stream",
     "text": [
      "ALMSER Mode: Active Learning |██████████████████████████████████████████████████████████████████████████████████████████████████--| 98.5% "
     ]
    },
    {
     "name": "stderr",
     "output_type": "stream",
     "text": [
      "/work/aprimpel/python3_venv/transfer_venv_/lib/python3.7/site-packages/sklearn/linear_model/_logistic.py:940: ConvergenceWarning: lbfgs failed to converge (status=1):\n",
      "STOP: TOTAL NO. of ITERATIONS REACHED LIMIT.\n",
      "\n",
      "Increase the number of iterations (max_iter) or scale the data as shown in:\n",
      "    https://scikit-learn.org/stable/modules/preprocessing.html\n",
      "Please also refer to the documentation for alternative solver options:\n",
      "    https://scikit-learn.org/stable/modules/linear_model.html#logistic-regression\n",
      "  extra_warning_msg=_LOGISTIC_SOLVER_CONVERGENCE_MSG)\n"
     ]
    },
    {
     "name": "stdout",
     "output_type": "stream",
     "text": [
      "ALMSER Mode: Active Learning |████████████████████████████████████████████████████████████████████████████████████████████████████| 100.0% \n",
      "../datasets/musicbrainz20K_mutated/feature_vector_files/\n",
      "../datasets/musicbrainz20K_mutated/almser/\n",
      "Intersection: set()\n",
      "RUN 0\n",
      "Bootstrap model\n",
      "Bootstrap labeled set\n",
      "Calculate pair based transferrability weights for each task\n",
      "Start ALMSER\n",
      "ALMSER Mode: Active Learning |████████████████████████████████████████████████████████████████████████████████████████████████████| 100.0% \n",
      "RUN 1\n",
      "Bootstrap model\n",
      "Bootstrap labeled set\n",
      "Calculate pair based transferrability weights for each task\n",
      "Start ALMSER\n",
      "ALMSER Mode: Active Learning |████████████████████████████████████████████████████████████████████████████████████████------------| 88.0% "
     ]
    }
   ],
   "source": [
    "#run everything\n",
    "qs_list = ['random']\n",
    "max_queries =200\n",
    "runs = 1\n",
    "learning_model = 'rf'\n",
    "for qs in qs_list:\n",
    "    query_strategy= qs\n",
    "    print(\"Query strategy : \", qs)\n",
    "    for i in range(len(path_list)):\n",
    "        print(path_list[i])\n",
    "        now = datetime.now()\n",
    "        path = path_list[i]\n",
    "        output_path = output_path_list[i]\n",
    "        fv_splitter = fv_splitter_list[i]\n",
    "\n",
    "        files = os.listdir(path)\n",
    "        files =[f.replace('.csv','') for f in files]\n",
    "\n",
    "        almser_exp, results= startALMSER()\n",
    "        writeResults(almser_exp, results, now)\n",
    "    "
   ]
  },
  {
   "cell_type": "markdown",
   "metadata": {},
   "source": [
    "# Load the stored files and start ALMSER"
   ]
  },
  {
   "cell_type": "code",
   "execution_count": 3,
   "metadata": {},
   "outputs": [],
   "source": [
    "from scoreaggregation import *\n",
    "from ALMSER import *\n",
    "from ALMSER_EXP import *\n",
    "\n",
    "def startALMSER():\n",
    "    almser_path = output_path\n",
    "    print(almser_path)\n",
    "\n",
    "    pairs_fv_train= pd.read_csv(almser_path+\"train_pairs_fv.csv\")\n",
    "\n",
    "    pairs_fv_train['datasource_pair'] = pairs_fv_train['source'].str.rsplit('_', 1).str[0]+fv_splitter+pairs_fv_train['target'].str.rsplit('_', 1).str[0]\n",
    "\n",
    "    pairs_fv_test= pd.read_csv(almser_path+\"test_pairs_fv.csv\")\n",
    "    pairs_fv_test['datasource_pair'] = pairs_fv_test['source'].str.rsplit('_', 1).str[0]+fv_splitter+pairs_fv_test['target'].str.rsplit('_', 1).str[0]\n",
    "\n",
    "    all_nodes_test_match = set(pairs_fv_test[pairs_fv_test.label]['source'].values)\n",
    "    all_nodes_test_match.update(set(pairs_fv_test[pairs_fv_test.label]['target'].values))\n",
    "\n",
    "    all_nodes_train_match = set(pairs_fv_train[pairs_fv_train.label]['source'].values)\n",
    "    all_nodes_train_match.update(set(pairs_fv_train[pairs_fv_train.label]['target'].values))\n",
    "\n",
    "    print(\"Intersection:\", all_nodes_train_match.intersection(all_nodes_test_match))\n",
    "\n",
    "    unique_source_pairs = files\n",
    "    results_concat = pd.DataFrame(columns=list(results_init(1).columns.values))\n",
    "    results_all = pd.DataFrame()\n",
    "    \n",
    "    for run in range(runs):\n",
    "        print(\"RUN %i\" % run)\n",
    "\n",
    "        almser_exp = ALMSER_EXP(pairs_fv_train, pairs_fv_test, unique_source_pairs, max_queries, learning_model,\n",
    "                            query_strategy, fv_splitter, bootstrap=True)\n",
    "        almser_exp.run_AL()\n",
    "\n",
    "        results_concat= pd.concat((results_concat,(almser_exp.results)))\n",
    "        \n",
    "        timestamp= datetime.now().strftime(\"%d_%m_%H_%M\")\n",
    "        filename = \"%i_runs_%i_iter_%s_%s\" %(runs,max_queries,query_strategy,timestamp)\n",
    "        almser_exp.log.log_info.to_csv(output_path+filename+\"___log.csv\", index= False)\n",
    "        \n",
    "    results_concat_by_row_index = results_concat.groupby(results_concat.index)\n",
    "    results_concat_mean =results_concat_by_row_index.mean(numeric_only=False) \n",
    "    results_concat_std =results_concat_by_row_index.apply(np.std)\n",
    "\n",
    "\n",
    "    for res_col in results_concat.columns.values:\n",
    "        results_all[res_col] = results_concat_mean[res_col]\n",
    "        results_all[res_col+'_std'] = results_concat_std[res_col]\n",
    "\n",
    "\n",
    "    return (almser_exp, results_all)\n"
   ]
  },
  {
   "cell_type": "code",
   "execution_count": 4,
   "metadata": {},
   "outputs": [],
   "source": [
    "from collections import Counter\n",
    "def writeResults(almser_exp, results_all,now):\n",
    "    timestamp= now.strftime(\"%d_%m_%H_%M\")\n",
    "    filename = \"%i_runs_%i_iter_%s_%s\" %(runs,max_queries,query_strategy,timestamp)\n",
    "\n",
    "    almser_exp.results.to_csv(output_path+filename+\"_ALL.csv\", index=False)\n",
    "    almser_exp.labeled_set.to_csv(output_path+filename+\"_LABELED_SET_INFO.csv\", index=False)\n",
    "    almser_exp.informants_eval.to_csv(output_path+filename+\"_INFORMANTS_EVAL.csv\", index=False)\n",
    "\n",
    "    results_all.to_csv(output_path+filename+\".csv\", index=False)\n",
    "\n",
    "    '''\n",
    "    further_stats= pd.DataFrame(columns=['Task','Annotations'])\n",
    "\n",
    "    freq_counter = dict(Counter(almser_exp.labeled_set.datasource_pair))\n",
    "    for i in range(len(almser_exp.unique_source_pairs)):\n",
    "        task = almser_exp.unique_source_pairs[i]\n",
    "        f1_score_task = almser_exp.results.tail(1).F1_pairwise_model.values[0].get(task)\n",
    "        freq = freq_counter.get(task)\n",
    "        space_coverage=almser_exp.unlabeled_set[almser_exp.unlabeled_set.datasource_pair==task].head(1).dataspace_coverage.values[0]\n",
    "        explore_score = almser_exp.unlabeled_set[almser_exp.unlabeled_set.datasource_pair==task].head(1).explore_score.values[0]\n",
    "        exploit = almser_exp.unlabeled_set[almser_exp.unlabeled_set.datasource_pair==task].head(1).exploit_score.values[0]\n",
    "\n",
    "        further_stats = further_stats.append({'Task': task, 'Annotations': freq,'Task-F1': f1_score_task, 'Explore_Score': explore_score, 'Exploit_Score':exploit}, ignore_index=True)\n",
    "\n",
    "    further_stats.to_csv(output_path+\"FURTHER_STATS_\"+filename+\".csv\", index=False)\n",
    "    '''"
   ]
  }
 ],
 "metadata": {
  "kernelspec": {
   "display_name": "Python 3",
   "language": "python",
   "name": "python3"
  },
  "language_info": {
   "codemirror_mode": {
    "name": "ipython",
    "version": 3
   },
   "file_extension": ".py",
   "mimetype": "text/x-python",
   "name": "python",
   "nbconvert_exporter": "python",
   "pygments_lexer": "ipython3",
   "version": "3.7.1"
  }
 },
 "nbformat": 4,
 "nbformat_minor": 4
}
